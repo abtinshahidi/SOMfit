{
 "cells": [
  {
   "cell_type": "markdown",
   "metadata": {},
   "source": [
    "## find best fit "
   ]
  },
  {
   "cell_type": "code",
   "execution_count": 1,
   "metadata": {},
   "outputs": [],
   "source": [
    "import numpy as np\n",
    "import astropy.io.fits as pyfits\n",
    "import matplotlib.pyplot as plt"
   ]
  },
  {
   "cell_type": "code",
   "execution_count": 4,
   "metadata": {},
   "outputs": [],
   "source": [
    "ndtype=[('id', \"S15\"), ('ra', float), ('dec', float),('ubc',float), ('bvc',float),('vrc',float), ('ric',float), \n",
    "        ('izc',float), ('zyc',float), ('yjc',float), ('jhc',float), ('hkc',float),('k1c',float), ('c12c',float),\n",
    "        ('c23c',float),('c34c',float),('eub',float), ('ebv',float),('evr',float), ('eri',float), \n",
    "        ('eiz',float), ('ezy',float), ('eyj',float), ('ejh',float), ('ehk',float),('ekc',float), ('ec12',float),\n",
    "        ('ec23',float),('ec34',float),('zc',float), ('massc',float), ('sfrc',float), ('agec',float), \n",
    "        ('ebvc',float), ('kmag',float),('ekmag',float), ('MU',float),('MV',float), ('MJ',float), ('overdensity',float),('env', \"S15\")]\n",
    "\n",
    "cosmos=np.genfromtxt('cosmos_z1_color+env.cat',dtype=ndtype)\n",
    "\n",
    "mub,mbv,mvr,mri,miz,mzy,myj,mjh,mhk,mk1,mc12=1.0,1.2,1.4,1.6,1.1,1.4,2.0,1.5,1.6,1.2,0.85\n",
    "cub,cbv,cvr,cri,ciz,czy,cyj,cjh,chk,ck1,cc12=0.2,-0.4,0.1,-0.3,0.1,0.1,-0.2,0.2,-0.2,0.1,0.04\n",
    "\n",
    "ubc=mub*np.array(cosmos['ubc'])+cub\n",
    "bvc=mbv*np.array(cosmos['bvc'])+cbv\n",
    "vrc=mvr*np.array(cosmos['vrc'])+cvr\n",
    "ric=mri*np.array(cosmos['ric'])+cri\n",
    "izc=miz*np.array(cosmos['izc'])+ciz\n",
    "zyc=mzy*np.array(cosmos['zyc'])+czy\n",
    "yjc=myj*np.array(cosmos['yjc'])+cyj\n",
    "jhc=mjh*np.array(cosmos['jhc'])+cjh\n",
    "hkc=mhk*np.array(cosmos['hkc'])+chk\n",
    "k1c=mk1*np.array(cosmos['k1c'])+ck1\n",
    "c12c=mc12*np.array(cosmos['c12c'])+cc12\n",
    "\n",
    "\n",
    "zc=np.array(cosmos['zc'])\n",
    "massc=np.array(cosmos['massc'])\n",
    "sfrc=np.array(cosmos['sfrc'])\n",
    "agec=np.array(cosmos['agec'])\n",
    "ebvc=np.array(cosmos['ebvc'])"
   ]
  },
  {
   "cell_type": "code",
   "execution_count": 62,
   "metadata": {},
   "outputs": [],
   "source": [
    "som = np.genfromtxt('som_trained_80x60.cat')"
   ]
  },
  {
   "cell_type": "code",
   "execution_count": 83,
   "metadata": {},
   "outputs": [
    {
     "name": "stdout",
     "output_type": "stream",
     "text": [
      "(13718, 1, 15)\n"
     ]
    }
   ],
   "source": [
    "cosmos = [[ubc],[bvc],[vrc],[ric],[izc],[zyc],[yjc],[jhc],[hkc],[k1c],[c12c],[agec],[ebvc],[sfrc],[massc]]\n",
    "cosmosed = np.array(cosmos).T\n",
    "print np.shape(cosmosed)\n",
    "c = cosmosed.reshape(13718,15)"
   ]
  },
  {
   "cell_type": "code",
   "execution_count": 123,
   "metadata": {},
   "outputs": [],
   "source": [
    "boz = 10112\n",
    "gals = np.repeat([c[boz]],len(som),axis = 0 )"
   ]
  },
  {
   "cell_type": "code",
   "execution_count": 124,
   "metadata": {},
   "outputs": [
    {
     "data": {
      "text/plain": [
       "<matplotlib.colorbar.Colorbar at 0x123a2ffd0>"
      ]
     },
     "execution_count": 124,
     "metadata": {},
     "output_type": "execute_result"
    },
    {
     "data": {
      "image/png": "[encoded data removed]",
      "text/plain": [
       "<Figure size 432x288 with 2 Axes>"
      ]
     },
     "metadata": {
      "needs_background": "light"
     },
     "output_type": "display_data"
    }
   ],
   "source": [
    "a = (np.nansum((som[:,0:11]-gals[:,0:11])**2.0,axis =1))\n",
    "a = np.array(a)\n",
    "a = a.reshape(80,60)\n",
    "plt.imshow(np.log10(a),origin='lower')\n",
    "plt.colorbar()"
   ]
  },
  {
   "cell_type": "code",
   "execution_count": null,
   "metadata": {},
   "outputs": [],
   "source": []
  }
 ],
 "metadata": {
  "kernelspec": {
   "display_name": "Python 2",
   "language": "python",
   "name": "python2"
  },
  "language_info": {
   "codemirror_mode": {
    "name": "ipython",
    "version": 2
   },
   "file_extension": ".py",
   "mimetype": "text/x-python",
   "name": "python",
   "nbconvert_exporter": "python",
   "pygments_lexer": "ipython2",
   "version": "2.7.15"
  }
 },
 "nbformat": 4,
 "nbformat_minor": 2
}
