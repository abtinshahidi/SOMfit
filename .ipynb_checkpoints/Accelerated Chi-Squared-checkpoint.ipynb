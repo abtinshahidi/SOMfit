{
 "cells": [
  {
   "cell_type": "markdown",
   "metadata": {},
   "source": [
    "## Project Description\n",
    "\n",
    "In this project, we aim to calculate the following equation on multiple GPUs using PyTorch and find its lowest value on a grid where $i, j$ go up to 80, 60 respectively. Ultimately, we wish to compare SOM mapping time on a GPU and a CPU.\n",
    "\n",
    "$$ \\chi_{i, j}^2 = \\sum_{k = 1}^{11} (G^k - W_{i, j}^k)$$\n",
    "\n",
    "Therefore, for purposes of programming with PyTorch, $W$ is a single tensor with depth, height, width of `11, 60, 80` and $G$'s are a set of tensors with depth, height, width of `11, 1, 1`.\n",
    "\n",
    "Author: Miladiouss (Milad Pourrahmani)\n",
    "\n",
    "Email : mpourrah@uci.edu / miladiouss@gmail.com\n",
    "\n",
    "Date  : May 3, 2019"
   ]
  },
  {
   "cell_type": "markdown",
   "metadata": {},
   "source": [
    "## Imports and GPU Test"
   ]
  },
  {
   "cell_type": "code",
   "execution_count": 2,
   "metadata": {},
   "outputs": [],
   "source": [
    "#-----------------------------------------------------------\n",
    "# IPython\n",
    "from IPython.core.interactiveshell import InteractiveShell\n",
    "InteractiveShell.ast_node_interactivity = \"all\"\n",
    "from IPython import display\n",
    "#-----------------------------------------------------------\n",
    "from time import time\n",
    "import numpy as np\n",
    "import math\n",
    "from numba import vectorize, cuda"
   ]
  },
  {
   "cell_type": "code",
   "execution_count": 3,
   "metadata": {},
   "outputs": [
    {
     "name": "stdout",
     "output_type": "stream",
     "text": [
      "Fri May 03 2019 at 02:06:06 on neuron by miladiouss\n",
      "gpustat output:\n",
      "\n",
      "\u001b[1m\u001b[37mneuron\u001b[m  Fri May  3 02:06:06 2019\n",
      "\u001b[36m[0]\u001b[m \u001b[34mGeForce 940MX   \u001b[m |\u001b[31m 47'C\u001b[m, \u001b[32m  0 %\u001b[m | \u001b[36m\u001b[1m\u001b[33m    0\u001b[m / \u001b[33m 2004\u001b[m MB |\n",
      "\u001b[36m[1]\u001b[m \u001b[34mTITAN V         \u001b[m |\u001b[31m 37'C\u001b[m, \u001b[32m 10 %\u001b[m | \u001b[36m\u001b[1m\u001b[33m    0\u001b[m / \u001b[33m12036\u001b[m MB |\n",
      "\n",
      "\n",
      "\n",
      "=== Name of 2 GPUs by PyTorch ===\n",
      "\n",
      "[0]: TITAN V\n",
      "[1]: GeForce 940MX\n",
      "=================================\n"
     ]
    }
   ],
   "source": [
    "from datetime import datetime\n",
    "timeFormat = '%a %b %d %Y at %H:%M:%S'\n",
    "import socket\n",
    "deviceName = socket.gethostname()\n",
    "import getpass\n",
    "userName = getpass.getuser()\n",
    "\n",
    "t1 = datetime.now()\n",
    "print(t1.strftime(timeFormat) + ' on ' + deviceName + ' by ' + userName)\n",
    "\n",
    "\n",
    "# GPU Detection Tests\n",
    "from torch.cuda import device_count\n",
    "import torch\n",
    "import gpustat\n",
    "\n",
    "if False:\n",
    "    print(\"\"\"\n",
    "    If pytorch raises \"RuntimeError: cuda runtime error (30)\" after suspension,\n",
    "    run the following commands in linux terminal:\n",
    "\n",
    "    sudo rmmod nvidia_uvm\n",
    "    sudo rmmod nvidia\n",
    "    sudo modprobe nvidia\n",
    "    sudo modprobe nvidia_uvm\n",
    "    \n",
    "    Then restart Jupyter kernel\n",
    "    \"\"\")\n",
    "\n",
    "print('gpustat output:\\n')\n",
    "gpustat.print_gpustat()\n",
    "print('\\n\\n')\n",
    "\n",
    "numGPUs = torch.cuda.device_count()\n",
    "print('=== Name of {} GPUs by PyTorch ===\\n'.format(numGPUs))\n",
    "for i in range(numGPUs):\n",
    "    print('[{}]: {}'.format(i, torch.cuda.get_device_name(i)))\n",
    "print('=================================')\n",
    "\n",
    "torch.cuda.empty_cache()"
   ]
  },
  {
   "cell_type": "markdown",
   "metadata": {},
   "source": [
    "## PyTorch Implementation and Timing"
   ]
  },
  {
   "cell_type": "code",
   "execution_count": 90,
   "metadata": {},
   "outputs": [
    {
     "name": "stdout",
     "output_type": "stream",
     "text": [
      "device name        :  TITAN V\n",
      "device             :  cuda:0\n",
      "Data Management    :  Generated  on device\n",
      "Load Time          :  5.674362e-05 s per 1e+01\n",
      "Transfer Time      :  0.000000e+00 s per 1e+01\n",
      "Calculation Time   :  0.000000e+00 s per 1e+01\n",
      "Total       Time   :  5.674362e-05 s per 1e+01\n",
      "Shooby's CPU Time  :  9.000000e+00 s per 1e+04\n",
      "=====================================================================================\n",
      "device name        :  TITAN V\n",
      "device             :  cuda:0\n",
      "Data Management    :  Generated  on device\n",
      "Load Time          :  6.365776e-05 s per 1e+02\n",
      "Transfer Time      :  0.000000e+00 s per 1e+02\n",
      "Calculation Time   :  0.000000e+00 s per 1e+02\n",
      "Total       Time   :  6.365776e-05 s per 1e+02\n",
      "Shooby's CPU Time  :  9.000000e+00 s per 1e+04\n",
      "=====================================================================================\n",
      "device name        :  TITAN V\n",
      "device             :  cuda:0\n",
      "Data Management    :  Generated  on device\n",
      "Load Time          :  9.822845e-05 s per 1e+03\n",
      "Transfer Time      :  0.000000e+00 s per 1e+03\n",
      "Calculation Time   :  4.632473e-04 s per 1e+03\n",
      "Total       Time   :  5.614758e-04 s per 1e+03\n",
      "Shooby's CPU Time  :  9.000000e+00 s per 1e+04\n",
      "=====================================================================================\n",
      "device name        :  TITAN V\n",
      "device             :  cuda:0\n",
      "Data Management    :  Generated  on device\n",
      "Load Time          :  7.224083e-05 s per 1e+04\n",
      "Transfer Time      :  0.000000e+00 s per 1e+04\n",
      "Calculation Time   :  1.677513e-03 s per 1e+04\n",
      "Total       Time   :  1.749754e-03 s per 1e+04\n",
      "Shooby's CPU Time  :  9.000000e+00 s per 1e+04\n",
      "=====================================================================================\n",
      "device name        :  TITAN V\n",
      "device             :  cuda:0\n",
      "Data Management    :  Generated  on device\n",
      "Load Time          :  2.365112e-04 s per 1e+05\n",
      "Transfer Time      :  0.000000e+00 s per 1e+05\n",
      "Calculation Time   :  1.928306e-02 s per 1e+05\n",
      "Total       Time   :  1.951957e-02 s per 1e+05\n",
      "Shooby's CPU Time  :  9.000000e+00 s per 1e+04\n",
      "=====================================================================================\n",
      "device name        :  TITAN V\n",
      "device             :  cuda:0\n",
      "Data Management    :  Generated  on device\n",
      "Load Time          :  3.108501e-03 s per 1e+06\n",
      "Transfer Time      :  0.000000e+00 s per 1e+06\n",
      "Calculation Time   :  1.292557e+00 s per 1e+06\n",
      "Total       Time   :  1.295666e+00 s per 1e+06\n",
      "Shooby's CPU Time  :  9.000000e+00 s per 1e+04\n",
      "=====================================================================================\n"
     ]
    }
   ],
   "source": [
    "for N in (10, 100, 1000, 10000, 100000, 1000000):\n",
    "    _  = torch.manual_seed(42)\n",
    "    vs = 11\n",
    "#     N  = 100 # Suggestion for CPU/GPU: 1e4/1e6\n",
    "    bs = 1000 # Suggestion for GPU: 1000\n",
    "    printMod = ['t_tot', 'all'][1]\n",
    "    #===================================================\n",
    "\n",
    "    # Imports\n",
    "    from time import time\n",
    "\n",
    "    import torch\n",
    "    import torch.nn as nn\n",
    "    import torch.nn.functional as F\n",
    "    from torch.utils.data import Dataset, DataLoader\n",
    "\n",
    "    # Device managements\n",
    "    deviceID = 0\n",
    "    device = torch.device('cuda:{}'.format(deviceID) if torch.cuda.is_available() else 'cpu')\n",
    "    if False:\n",
    "        device = 'cpu'\n",
    "        torch.set_num_threads = 1\n",
    "    else:\n",
    "        if printMod == 'all':\n",
    "            print('device name        :  {}'.format(torch.cuda.get_device_name(deviceID)))\n",
    "    if printMod == 'all':\n",
    "        print('device             :  {}'.format(device))\n",
    "\n",
    "    # Dataset \n",
    "    class RandomDataset(Dataset):\n",
    "\n",
    "        def __init__(self, size):\n",
    "            self.len = size\n",
    "\n",
    "        def __getitem__(self, index):\n",
    "            return torch.randn((vs, 1, 1))\n",
    "\n",
    "        def __len__(self):\n",
    "            return self.len\n",
    "\n",
    "    valset    = RandomDataset(N)\n",
    "    valLoader = DataLoader(valset, batch_size=bs, pin_memory=False)\n",
    "\n",
    "    # Main model\n",
    "    class Model(nn.Module):\n",
    "        def __init__(self, W_depth = vs, W_height = 80, W_width = 60, feed = None, bs = bs, device = device):\n",
    "            super(Model, self).__init__()\n",
    "            self.W = torch.rand((W_depth, W_height, W_width))\n",
    "            if feed is not None:\n",
    "                self.W = feed\n",
    "            self.W        = self.W.to(device)\n",
    "            self.localGs  = torch.randn((bs, vs, 1, 1))\n",
    "            self.localGs  = self.localGs.to(device)\n",
    "\n",
    "\n",
    "        def chiFunc(self, Gs):\n",
    "            '''Works on batches'''\n",
    "            output = torch.add(self.W, -Gs)**2\n",
    "            output = output.sum(1)\n",
    "            output = torch.min(output.flatten(1), 1)\n",
    "            # Returns lowest values and corresponding locations\n",
    "            return output\n",
    "\n",
    "\n",
    "        def forward(self, Gs, local = False):\n",
    "            if Gs is None:\n",
    "                Gs = self.localGs\n",
    "            return self.chiFunc(Gs)\n",
    "\n",
    "    # Place model on device\n",
    "    model = Model()\n",
    "    if True and device != 'cpu':\n",
    "        model = torch.nn.DataParallel(model, device_ids=[deviceID])\n",
    "    else:\n",
    "        model = model.to(device)\n",
    "\n",
    "    # Timing setup\n",
    "    t_calc  = 0\n",
    "    t_trans = 0\n",
    "    t_tot   = 0\n",
    "\n",
    "    t1_tot = time()\n",
    "\n",
    "    # Main calculations\n",
    "\n",
    "    # Mock data is created on GPU\n",
    "    if True:\n",
    "        if printMod == 'all':\n",
    "            print(\"Data Management    :  Generated  on device\")\n",
    "        for i in range(N//bs):\n",
    "            t1_calc = time()\n",
    "            output = model(None)\n",
    "            t2_calc = time()\n",
    "            t_calc += t2_calc - t1_calc\n",
    "\n",
    "    # Mock data is transfered to GPU\n",
    "    else:\n",
    "        if printMod == 'all':\n",
    "            print(\"Data Management    :  Transfered to device\")\n",
    "        for i, Gbatch in enumerate(valLoader):\n",
    "            t1_trans = time()\n",
    "            Gbatch = Gbatch.to(device)\n",
    "            t2_trans = time()\n",
    "            t_trans += t2_trans - t1_trans\n",
    "\n",
    "            t1_calc = time()\n",
    "            output = model(Gbatch)\n",
    "            t2_calc = time()\n",
    "            t_calc += t2_calc - t1_calc\n",
    "\n",
    "    t2_tot = time()\n",
    "    t_tot = t2_tot - t1_tot\n",
    "\n",
    "    # Reports\n",
    "    if printMod == 'all':\n",
    "        print('Load Time          : {: e} s per {:.0e}'.format(t_tot - t_trans - t_calc, N))\n",
    "        print('Transfer Time      : {: e} s per {:.0e}'.format(t_trans, N))\n",
    "        print('Calculation Time   : {: e} s per {:.0e}'.format(t_calc, N))\n",
    "        print('Total       Time   : {: e} s per {:.0e}'.format(t_tot, N))\n",
    "        print(\"=====================================================================================\")\n",
    "    if printMod == 't_tot':\n",
    "        print(t_tot, end=', ')"
   ]
  },
  {
   "cell_type": "code",
   "execution_count": null,
   "metadata": {},
   "outputs": [],
   "source": []
  },
  {
   "cell_type": "markdown",
   "metadata": {},
   "source": [
    "#### 1. GPU Time Records (Without Data Transfer)"
   ]
  },
  {
   "cell_type": "markdown",
   "metadata": {},
   "source": [
    "```\n",
    "=====================================================================================\n",
    "device name        :  TITAN V\n",
    "device             :  cuda:0\n",
    "Data Management    :  Generated  on device\n",
    "Load Time          :  1.814365e-03 s per 1e+01\n",
    "Transfer Time      :  0.000000e+00 s per 1e+01\n",
    "Calculation Time   :  0.000000e+00 s per 1e+01\n",
    "Total       Time   :  1.814365e-03 s per 1e+01\n",
    "=====================================================================================\n",
    "device name        :  TITAN V\n",
    "device             :  cuda:0\n",
    "Data Management    :  Generated  on device\n",
    "Load Time          :  4.076958e-05 s per 1e+02\n",
    "Transfer Time      :  0.000000e+00 s per 1e+02\n",
    "Calculation Time   :  0.000000e+00 s per 1e+02\n",
    "Total       Time   :  4.076958e-05 s per 1e+02\n",
    "=====================================================================================\n",
    "device name        :  TITAN V\n",
    "device             :  cuda:0\n",
    "Data Management    :  Generated  on device\n",
    "Load Time          :  5.221367e-05 s per 1e+03\n",
    "Transfer Time      :  0.000000e+00 s per 1e+03\n",
    "Calculation Time   :  4.060268e-04 s per 1e+03\n",
    "Total       Time   :  4.582405e-04 s per 1e+03\n",
    "=====================================================================================\n",
    "device name        :  TITAN V\n",
    "device             :  cuda:0\n",
    "Data Management    :  Generated  on device\n",
    "Load Time          :  5.388260e-05 s per 1e+04\n",
    "Transfer Time      :  0.000000e+00 s per 1e+04\n",
    "Calculation Time   :  1.125097e-03 s per 1e+04\n",
    "Total       Time   :  1.178980e-03 s per 1e+04\n",
    "=====================================================================================\n",
    "device name        :  TITAN V\n",
    "device             :  cuda:0\n",
    "Data Management    :  Generated  on device\n",
    "Load Time          :  1.611710e-04 s per 1e+05\n",
    "Transfer Time      :  0.000000e+00 s per 1e+05\n",
    "Calculation Time   :  1.376677e-02 s per 1e+05\n",
    "Total       Time   :  1.392794e-02 s per 1e+05\n",
    "=====================================================================================\n",
    "device name        :  TITAN V\n",
    "device             :  cuda:0\n",
    "Data Management    :  Generated  on device\n",
    "Load Time          :  3.225565e-03 s per 1e+06\n",
    "Transfer Time      :  0.000000e+00 s per 1e+06\n",
    "Calculation Time   :  1.292620e+00 s per 1e+06\n",
    "Total       Time   :  1.295846e+00 s per 1e+06\n",
    "=====================================================================================\n",
    "```"
   ]
  },
  {
   "cell_type": "code",
   "execution_count": 4,
   "metadata": {},
   "outputs": [],
   "source": [
    "run1 = 3.5762786865234375e-06, 4.291534423828125e-06, 0.00026679039001464844, 0.0015590190887451172, 0.011265039443969727, 1.2953987121582031, 15.942537784576416, \n",
    "run2 = 2.86102294921875e-06, 2.6226043701171875e-06, 0.00026988983154296875, 0.001641988754272461, 0.008538007736206055, 1.2956111431121826, 15.947063446044922, \n",
    "run3 = 3.0994415283203125e-06, 3.5762786865234375e-06, 0.00048613548278808594, 0.001975536346435547, 0.01061248779296875, 1.2957241535186768, 15.945496082305908, \n",
    "Ns   = np.array([10, 100, 1000, 10000, 100000, 1000000, 10000000])\n",
    "\n",
    "run1 = np.array(run1)\n",
    "run2 = np.array(run2)\n",
    "run3 = np.array(run3)\n",
    "\n",
    "run123I = np.mean((run1, run2, run3), 0)"
   ]
  },
  {
   "cell_type": "markdown",
   "metadata": {},
   "source": [
    "#### 2. GPU Time Records (With Data Transfer)"
   ]
  },
  {
   "cell_type": "markdown",
   "metadata": {},
   "source": [
    "```\n",
    "=====================================================================================\n",
    "device name        :  TITAN V\n",
    "device             :  cuda:0\n",
    "Data Management    :  Transfered to device\n",
    "Load Time          :  3.957748e-04 s per 1e+01\n",
    "Transfer Time      :  6.866455e-05 s per 1e+01\n",
    "Calculation Time   :  4.634857e-04 s per 1e+01\n",
    "Total       Time   :  9.279251e-04 s per 1e+01\n",
    "=====================================================================================\n",
    "device name        :  TITAN V\n",
    "device             :  cuda:0\n",
    "Data Management    :  Transfered to device\n",
    "Load Time          :  7.259846e-04 s per 1e+02\n",
    "Transfer Time      :  4.839897e-05 s per 1e+02\n",
    "Calculation Time   :  1.916885e-04 s per 1e+02\n",
    "Total       Time   :  9.660721e-04 s per 1e+02\n",
    "=====================================================================================\n",
    "device name        :  TITAN V\n",
    "device             :  cuda:0\n",
    "Data Management    :  Transfered to device\n",
    "Load Time          :  5.710125e-03 s per 1e+03\n",
    "Transfer Time      :  2.176762e-04 s per 1e+03\n",
    "Calculation Time   :  4.482269e-04 s per 1e+03\n",
    "Total       Time   :  6.376028e-03 s per 1e+03\n",
    "=====================================================================================\n",
    "device name        :  TITAN V\n",
    "device             :  cuda:0\n",
    "Data Management    :  Transfered to device\n",
    "Load Time          :  4.211116e-02 s per 1e+04\n",
    "Transfer Time      :  1.444340e-03 s per 1e+04\n",
    "Calculation Time   :  4.163265e-03 s per 1e+04\n",
    "Total       Time   :  4.771876e-02 s per 1e+04\n",
    "=====================================================================================\n",
    "device name        :  TITAN V\n",
    "device             :  cuda:0\n",
    "Data Management    :  Transfered to device\n",
    "Load Time          :  3.824205e-01 s per 1e+05\n",
    "Transfer Time      :  1.075053e-02 s per 1e+05\n",
    "Calculation Time   :  2.390003e-02 s per 1e+05\n",
    "Total       Time   :  4.170711e-01 s per 1e+05\n",
    "=====================================================================================\n",
    "device name        :  TITAN V\n",
    "device             :  cuda:0\n",
    "Data Management    :  Transfered to device\n",
    "Load Time          :  5.193329e+00 s per 1e+06\n",
    "Transfer Time      :  1.403193e-01 s per 1e+06\n",
    "Calculation Time   :  3.657453e-01 s per 1e+06\n",
    "Total       Time   :  5.699394e+00 s per 1e+06\n",
    "=====================================================================================\n",
    "```"
   ]
  },
  {
   "cell_type": "code",
   "execution_count": 5,
   "metadata": {},
   "outputs": [],
   "source": [
    "run1 = 0.00046634674072265625, 0.0010683536529541016, 0.0068149566650390625, 0.056452035903930664, 0.45601558685302734, 5.35297703742981, 50.70260453224182, \n",
    "run2 = 0.0008776187896728516, 0.0008144378662109375, 0.006388425827026367, 0.05249810218811035, 0.5033338069915771, 6.025055646896362, 51.,\n",
    "run3 = 0.0010247230529785156, 0.0011801719665527344, 0.012906789779663086, 0.04403996467590332, 0.5602531433105469, 6.38318657875061, 51.,\n",
    "\n",
    "run1 = np.array(run1)\n",
    "run2 = np.array(run2)\n",
    "run3 = np.array(run3)\n",
    "\n",
    "run123II = np.mean((run1, run2, run3), 0)"
   ]
  },
  {
   "cell_type": "markdown",
   "metadata": {},
   "source": [
    "#### 3. CPU Time Records"
   ]
  },
  {
   "cell_type": "markdown",
   "metadata": {},
   "source": [
    "```\n",
    "=====================================================================================\n",
    "device             :  cpu\n",
    "Data Management    :  Transfered to device\n",
    "Load Time          :  4.427433e-04 s per 1e+01\n",
    "Transfer Time      :  5.245209e-06 s per 1e+01\n",
    "Calculation Time   :  1.560926e-03 s per 1e+01\n",
    "Total       Time   :  2.008915e-03 s per 1e+01\n",
    "=====================================================================================\n",
    "device             :  cpu\n",
    "Data Management    :  Transfered to device\n",
    "Load Time          :  8.444786e-04 s per 1e+02\n",
    "Transfer Time      :  9.059906e-06 s per 1e+02\n",
    "Calculation Time   :  1.104832e-02 s per 1e+02\n",
    "Total       Time   :  1.190186e-02 s per 1e+02\n",
    "=====================================================================================\n",
    "device             :  cpu\n",
    "Data Management    :  Transfered to device\n",
    "Load Time          :  6.634235e-03 s per 1e+03\n",
    "Transfer Time      :  2.670288e-05 s per 1e+03\n",
    "Calculation Time   :  9.969068e-02 s per 1e+03\n",
    "Total       Time   :  1.063516e-01 s per 1e+03\n",
    "=====================================================================================\n",
    "device             :  cpu\n",
    "Data Management    :  Transfered to device\n",
    "Load Time          :  6.788874e-02 s per 1e+04\n",
    "Transfer Time      :  2.219677e-04 s per 1e+04\n",
    "Calculation Time   :  1.463918e+00 s per 1e+04\n",
    "Total       Time   :  1.532029e+00 s per 1e+04\n",
    "=====================================================================================\n",
    "device             :  cpu\n",
    "Data Management    :  Transfered to device\n",
    "Load Time          :  5.639410e-01 s per 1e+05\n",
    "Transfer Time      :  1.487732e-03 s per 1e+05\n",
    "Calculation Time   :  1.349072e+01 s per 1e+05\n",
    "Total       Time   :  1.405615e+01 s per 1e+05\n",
    "=====================================================================================\n",
    "device             :  cpu\n",
    "Data Management    :  Transfered to device\n",
    "Load Time          :  5.423350e+00 s per 1e+06\n",
    "Transfer Time      :  1.540160e-02 s per 1e+06\n",
    "Calculation Time   :  1.374256e+02 s per 1e+06\n",
    "Total       Time   :  1.428644e+02 s per 1e+06\n",
    "=====================================================================================```"
   ]
  },
  {
   "cell_type": "code",
   "execution_count": 6,
   "metadata": {},
   "outputs": [],
   "source": [
    "run1 = 0.0007658004760742188, 0.006584882736206055, 0.11615705490112305, 1.330733299255371, 12.783903360366821, 142.0729537010193, 1500 # 1500 has been extrapolated\n",
    "run2 = run1\n",
    "run3 = run1\n",
    "Ns   = np.array([10, 100, 1000, 10000, 100000, 1000000, 10000000])\n",
    "\n",
    "run1 = np.array(run1)\n",
    "run2 = np.array(run2)\n",
    "run3 = np.array(run3)\n",
    "\n",
    "run123III = np.mean((run1, run2, run3), 0)"
   ]
  },
  {
   "cell_type": "markdown",
   "metadata": {},
   "source": [
    "### Plotting"
   ]
  },
  {
   "cell_type": "code",
   "execution_count": 11,
   "metadata": {},
   "outputs": [
    {
     "data": {
      "image/png": "[encoded data removed]",
      "text/plain": [
       "<Figure size 1200x800 with 1 Axes>"
      ]
     },
     "metadata": {},
     "output_type": "display_data"
    }
   ],
   "source": [
    "import matplotlib.pyplot as plt\n",
    "%matplotlib inline\n",
    "if True:\n",
    "    _ = plt.style.use('dark_background')\n",
    "fig, axs = plt.subplots(1, 1)\n",
    "ax11 = axs\n",
    "\n",
    "_ = ax11.loglog(Ns, run123I, label = \"GPU (w/o Data Transfer)\", marker = '.', color = '#ff0066')\n",
    "_ = ax11.loglog(Ns, run123II, label = \"GPU (w/  Data Transfer)\", marker = '.', color = '#9966ff')\n",
    "_ = ax11.loglog(Ns, run123III, label = \"CPU\", marker = '.', color = '#33cccc')\n",
    "\n",
    "_ = fig.set_dpi(200)\n",
    "_ = ax11.set_xlabel('Total Number of Galaxies')\n",
    "_ = ax11.set_ylabel('SOM Mapping Time (s)')\n",
    "legend = ax11.legend(loc='upper left', shadow=True, fontsize='x-small')\n",
    "\n"
   ]
  },
  {
   "cell_type": "markdown",
   "metadata": {},
   "source": [
    "## Proof of Concept\n",
    "This section was developed before creating a PyTorch model, even though it is placed last."
   ]
  },
  {
   "cell_type": "markdown",
   "metadata": {},
   "source": [
    "### Data Initialization"
   ]
  },
  {
   "cell_type": "code",
   "execution_count": 7,
   "metadata": {},
   "outputs": [
    {
     "name": "stdout",
     "output_type": "stream",
     "text": [
      "W  Shape: torch.Size([3, 2, 2])\n",
      "Gs Shape: torch.Size([2, 3, 1, 1])\n"
     ]
    }
   ],
   "source": [
    "quickTestDict = {'Number of Samples' : 2, 'Vector Size' : 3, 'Grid Height' : 2, 'Grid Width' : 2, 'dtype' : np.int16, 'dictName' : 'quickTest'}\n",
    "longTestDict  = {'Number of Samples' : 10, 'Vector Size' : 11, 'Grid Height' : 100, 'Grid Width' : 100, 'dtype' : np.float32, 'dictName' : 'longTest'}\n",
    "paramDict = [quickTestDict, longTestDict][0]\n",
    "\n",
    "N       = paramDict['Number of Samples']\n",
    "W_shape = (paramDict['Vector Size'], paramDict['Grid Height'], paramDict['Grid Width'])\n",
    "G_shape = (paramDict['Vector Size'], 1, 1)\n",
    "dtype   = np.float32\n",
    "rs      = np.random.RandomState(seed=42)\n",
    "W       = rs.randint(0, 10, W_shape).astype(dtype)\n",
    "Gs      = rs.randint(0, 10, (N, *G_shape)).astype(dtype)\n",
    "\n",
    "# Convert to torch tensor\n",
    "W       = torch.Tensor(W)\n",
    "Gs      = torch.Tensor(Gs)\n",
    "print('W  Shape: {}'.format(W.shape))\n",
    "print('Gs Shape: {}'.format(Gs.shape))"
   ]
  },
  {
   "cell_type": "markdown",
   "metadata": {},
   "source": [
    "### Method I"
   ]
  },
  {
   "cell_type": "code",
   "execution_count": 8,
   "metadata": {},
   "outputs": [
    {
     "name": "stdout",
     "output_type": "stream",
     "text": [
      "Least Chi-Squared for G[0]: 4.0e+00\n",
      "Least Chi-Squared for G[1]: 2.5e+01\n"
     ]
    }
   ],
   "source": [
    "if paramDict['dictName'] == 'quickTest':\n",
    "    for i, G in enumerate(Gs):\n",
    "        G_grid   = torch.ones_like(W)\n",
    "        G_grid   = torch.mul(G, G_grid)\n",
    "        chi_grid = torch.sum((W - G_grid)**2, 0)\n",
    "        chi_min  = torch.min(chi_grid)\n",
    "        print(\"Least Chi-Squared for G[{}]: {:.1e}\".format(i, chi_min))"
   ]
  },
  {
   "cell_type": "markdown",
   "metadata": {},
   "source": [
    "### Method II (Using PyTorch Model)"
   ]
  },
  {
   "cell_type": "code",
   "execution_count": 11,
   "metadata": {},
   "outputs": [
    {
     "name": "stdout",
     "output_type": "stream",
     "text": [
      "Model output (min chi for each batch and the corresponding location):\n"
     ]
    },
    {
     "data": {
      "text/plain": [
       "(tensor([ 4., 25.], device='cuda:0'), tensor([2, 3], device='cuda:0'))"
      ]
     },
     "execution_count": 11,
     "metadata": {},
     "output_type": "execute_result"
    }
   ],
   "source": [
    "print(\"Model output (min chi for each batch and the corresponding location):\")\n",
    "model = Model(feed=W)\n",
    "model(Gs.to(device))"
   ]
  },
  {
   "cell_type": "markdown",
   "metadata": {},
   "source": [
    "### Method III\n",
    "Compare the output of the following with the Method II output."
   ]
  },
  {
   "cell_type": "code",
   "execution_count": 12,
   "metadata": {},
   "outputs": [
    {
     "name": "stdout",
     "output_type": "stream",
     "text": [
      "\n",
      "W = \n",
      "tensor([[[6., 3.],\n",
      "         [7., 4.]],\n",
      "\n",
      "        [[6., 9.],\n",
      "         [2., 6.]],\n",
      "\n",
      "        [[7., 4.],\n",
      "         [3., 7.]]])\n",
      "\n",
      "Gs = \n",
      "tensor([[[[7.]],\n",
      "\n",
      "         [[2.]],\n",
      "\n",
      "         [[5.]]],\n",
      "\n",
      "\n",
      "        [[[4.]],\n",
      "\n",
      "         [[1.]],\n",
      "\n",
      "         [[7.]]]])\n",
      "\n",
      "(W - G)**2 for each G:\n"
     ]
    },
    {
     "data": {
      "text/plain": [
       "tensor([[[[ 1., 16.],\n",
       "          [ 0.,  9.]],\n",
       "\n",
       "         [[16., 49.],\n",
       "          [ 0., 16.]],\n",
       "\n",
       "         [[ 4.,  1.],\n",
       "          [ 4.,  4.]]],\n",
       "\n",
       "\n",
       "        [[[ 4.,  1.],\n",
       "          [ 9.,  0.]],\n",
       "\n",
       "         [[25., 64.],\n",
       "          [ 1., 25.]],\n",
       "\n",
       "         [[ 0.,  9.],\n",
       "          [16.,  0.]]]])"
      ]
     },
     "execution_count": 12,
     "metadata": {},
     "output_type": "execute_result"
    },
    {
     "name": "stdout",
     "output_type": "stream",
     "text": [
      "\n",
      "Sum of (W - G)**2 for each G:\n"
     ]
    },
    {
     "data": {
      "text/plain": [
       "tensor([[[21., 66.],\n",
       "         [ 4., 29.]],\n",
       "\n",
       "        [[29., 74.],\n",
       "         [26., 25.]]])"
      ]
     },
     "execution_count": 12,
     "metadata": {},
     "output_type": "execute_result"
    }
   ],
   "source": [
    "if paramDict['dictName'] == 'quickTest':\n",
    "    print('\\nW = ')\n",
    "    print(W)\n",
    "    print('\\nGs = ')\n",
    "    print(Gs)\n",
    "\n",
    "    print(\"\\n(W - G)**2 for each G:\")\n",
    "    output = torch.add(W, -Gs)**2\n",
    "    output\n",
    "    \n",
    "    print(\"\\nSum of (W - G)**2 for each G:\")\n",
    "    output.sum(1)"
   ]
  },
  {
   "cell_type": "code",
   "execution_count": 13,
   "metadata": {},
   "outputs": [],
   "source": [
    "# add works on batches too\n",
    "if False:\n",
    "    torch.add(W, -Gs)\n",
    "    torch.cat([torch.add(W, -Gs[0]), torch.add(W, -Gs[1])])"
   ]
  },
  {
   "cell_type": "markdown",
   "metadata": {},
   "source": [
    "## Recycle"
   ]
  },
  {
   "cell_type": "code",
   "execution_count": null,
   "metadata": {},
   "outputs": [],
   "source": [
    "# Recycled code from torch Model class\n",
    "\n",
    "# self.G_grid   = torch.ones_like(self.W)\n",
    "\n",
    "#     def ChiFunc1(self, G):\n",
    "#         G_grid   = self.G_grid\n",
    "#         G_grid   = torch.mul(G, self.G_grid)\n",
    "#         Chi_grid = torch.sum((self.W - G_grid)**2, 0)\n",
    "#         Chi_min  = torch.min(Chi_grid)\n",
    "#         return Chi_min\n",
    "    \n",
    "#     def ChiFunc2(self, G):\n",
    "#         output = torch.add(self.W, -G)**2\n",
    "#         output = torch.sum(output, 0)\n",
    "#         output = torch.min(output)\n",
    "#         return output\n",
    "\n",
    "\n",
    "# Recycled code from Proof of Work\n",
    "\n",
    "# if True:\n",
    "#     print('\\nW = ')\n",
    "#     print(W)\n",
    "#     print('\\nG = ')\n",
    "#     print(G)\n",
    "#     print('\\nW[:, 0, 0] = ', W[:, 0, 0].numpy())\n",
    "#     print('\\nG[:, 0, 0] = ', G[:, 0, 0].numpy())\n",
    "#     print('\\n(G00 - W00)**2 = ', (W[:, 0, 0] - G[:, 0, 0])**2)\n",
    "#     print('\\nsum00 = ', torch.sum((W[:, 0, 0] - G[:, 0, 0])**2))\n",
    "#     print('\\n(G00 - W01)**2 = ', (W[:, 0, 1] - G[:, 0, 0])**2)\n",
    "#     print('\\nsum01 = ', torch.sum((W[:, 0, 1] - G[:, 0, 0])**2))\n",
    "#     print('\\n(G00 - W10)**2 = ', (W[:, 1, 0] - G[:, 0, 0])**2)\n",
    "#     print('\\nsum10 = ', torch.sum((W[:, 1, 0] - G[:, 0, 0])**2))\n",
    "#     print('\\n(G00 - W11)**2 = ', (W[:, 1, 1] - G[:, 0, 0])**2)\n",
    "#     print('\\nsum11 = ', torch.sum((W[:, 1, 1] - G[:, 0, 0])**2))\n"
   ]
  }
 ],
 "metadata": {
  "kernelspec": {
   "display_name": "Python 3",
   "language": "python",
   "name": "python3"
  },
  "language_info": {
   "codemirror_mode": {
    "name": "ipython",
    "version": 3
   },
   "file_extension": ".py",
   "mimetype": "text/x-python",
   "name": "python",
   "nbconvert_exporter": "python",
   "pygments_lexer": "ipython3",
   "version": "3.7.1"
  }
 },
 "nbformat": 4,
 "nbformat_minor": 2
}
